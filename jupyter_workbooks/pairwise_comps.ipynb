{
 "cells": [
  {
   "cell_type": "code",
   "execution_count": 1,
   "metadata": {},
   "outputs": [
    {
     "name": "stderr",
     "output_type": "stream",
     "text": [
      "/Users/don/anaconda3/lib/python3.7/site-packages/statsmodels/tools/_testing.py:19: FutureWarning: pandas.util.testing is deprecated. Use the functions in the public API at pandas.testing instead.\n",
      "  import pandas.util.testing as tm\n"
     ]
    }
   ],
   "source": [
    "import numpy as np\n",
    "import pandas as pd\n",
    "import requests\n",
    "import time\n",
    "\n",
    "from statsmodels.stats.multitest import multipletests as multipletests\n",
    "from scipy.stats import ttest_ind as ttest_ind\n",
    "\n",
    "pd.set_option(\"display.max_rows\", 500)\n",
    "\n",
    "\n",
    "def get_metab_ids(metabs_ls, verbose=False):\n",
    "    \"\"\"GETs a list of metabs from the Metaboanalyst API and returns their IDs as a dataframe.\n",
    "    \n",
    "    PARAMS\n",
    "    ------\n",
    "    metabs_ls: list of string; input list of metab common names\n",
    "    verbose: bool; verbosity flag.\n",
    "    \n",
    "    RETURNS\n",
    "    -------\n",
    "    response_obj: list of dictionaries of IDs.\n",
    "    \"\"\"\n",
    "    \n",
    "    input_str = \";\".join(metabs_ls)\n",
    "    url = \"http://api.xialab.ca/mapcompounds\"\n",
    "    payload = '{\\n\\t\\\"queryList\\\": \\\"'+input_str+';\\\",\\n\\t\\\"inputType\\\": \\\"name\\\"\\n}'\n",
    "    headers = {\n",
    "        'Content-Type': \"application/json\",\n",
    "        'cache-control': \"no-cache\",\n",
    "        }\n",
    "\n",
    "    r = requests.request(\"POST\", url, data=payload, headers=headers)\n",
    "    \n",
    "    response_obj = r.json()\n",
    "    \n",
    "    contents = []\n",
    "    colnames_ls = [\"metab\", \"hit\", \"hmdb_id\", \"kegg_id\", \"pubchem_id\", \"chebi_id\", \"metlin_id\", \"smiles\"]\n",
    "    for row in response_obj:\n",
    "        contents.append([row[colname] for colname in colnames_ls])\n",
    "\n",
    "    d_id = pd.DataFrame(data=contents, columns=colnames_ls)\n",
    "    d_id.fillna(\"undef\", inplace=True)\n",
    "    \n",
    "    d_id.replace({\"-\": \"undef\", \"\":\"undef\", \"NA\":\"undef\"}, inplace=True)\n",
    "\n",
    "    return d_id"
   ]
  },
  {
   "cell_type": "code",
   "execution_count": 2,
   "metadata": {},
   "outputs": [],
   "source": [
    "d0 = pd.read_csv(\"/Users/don/Documents/flask_boxplot_reports_v3/sample_data/sample_gcms_normalized_n171.csv\")\n",
    "pairs_ls = [[\"group1\", \"group2\"], [\"group2\", \"group3\"], [\"group3\", \"group4\"]]\n",
    "\n",
    "sample_colname= d0.columns[0]\n",
    "group_colname = d0.columns[1]\n",
    "metabs_ls = list(d0.columns)[2:]"
   ]
  },
  {
   "cell_type": "code",
   "execution_count": null,
   "metadata": {},
   "outputs": [],
   "source": [
    "d_id = get_metab_ids(metabs_ls)"
   ]
  },
  {
   "cell_type": "code",
   "execution_count": null,
   "metadata": {},
   "outputs": [],
   "source": [
    "comparisons_df_dict = {}\n",
    "for pair in pairs_ls:\n",
    "    k = \"|\".join(pair)\n",
    "    d_t = d0.loc[d0[group_colname].isin(pair)]\n",
    "    contents = []\n",
    "    for mtb in metabs_ls:\n",
    "        record_dict = {}\n",
    "        arr0 = d_t.loc[d_t[group_colname]==pair[0]][mtb]\n",
    "        arr1 = d_t.loc[d_t[group_colname]==pair[1]][mtb]\n",
    "\n",
    "        t_test_result = ttest_ind(arr0, arr1, equal_var = False)\n",
    "        new_row = [mtb, t_test_result.statistic, t_test_result.pvalue, np.average(arr0)/np.average(arr1)]\n",
    "        contents.append(new_row)\n",
    "\n",
    "    d_stats = pd.DataFrame(data=contents, columns=[\"metab\", \"t_stat\", \"p_val\", \"fc\"])\n",
    "\n",
    "    # Multiple hypothesis testing correction\n",
    "    multtest_result = multipletests(list(d_stats[\"p_val\"]), alpha=0.05, method=\"fdr_bh\", is_sorted=False, returnsorted=False)\n",
    "    d_stats[\"BH_q_val\"] = multtest_result[1]\n",
    "    \n",
    "    comparisons_df_dict[k] = d_stats"
   ]
  },
  {
   "cell_type": "code",
   "execution_count": null,
   "metadata": {},
   "outputs": [],
   "source": [
    "comparisons_df_dict[\"group1|group2\"]"
   ]
  },
  {
   "cell_type": "code",
   "execution_count": null,
   "metadata": {},
   "outputs": [],
   "source": []
  }
 ],
 "metadata": {
  "kernelspec": {
   "display_name": "Python 3",
   "language": "python",
   "name": "python3"
  },
  "language_info": {
   "codemirror_mode": {
    "name": "ipython",
    "version": 3
   },
   "file_extension": ".py",
   "mimetype": "text/x-python",
   "name": "python",
   "nbconvert_exporter": "python",
   "pygments_lexer": "ipython3",
   "version": "3.7.4"
  }
 },
 "nbformat": 4,
 "nbformat_minor": 4
}
